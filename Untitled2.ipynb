{
 "cells": [
  {
   "cell_type": "markdown",
   "id": "f86e54a9-b38e-4c7a-9528-a7a277f7daba",
   "metadata": {},
   "source": [
    "# My Jupyter Notebook on IBM Watson Studio"
   ]
  },
  {
   "cell_type": "markdown",
   "id": "699cab79-6667-442e-9436-1e8a78a3341d",
   "metadata": {},
   "source": [
    "**Name: Jose Salinas**\n",
    "\n",
    "Business Controller wanting to switch to a Data Science Role"
   ]
  },
  {
   "cell_type": "markdown",
   "id": "9048e896-9197-4744-babf-21c63561aa9d",
   "metadata": {},
   "source": [
    "_1. I am interested in data science because i want to have more tools to analyze data for gaining insights when big questions arise._ \n",
    "\n",
    "_2. I am interested in data science because it combines the fields of study that i like: maths, programming and analyzing and solving problems or questions._ "
   ]
  },
  {
   "cell_type": "markdown",
   "id": "8cdc11a5-b8ee-4b39-b8ef-0146c5a3e11a",
   "metadata": {},
   "source": [
    "### My code calculates the probability of same results of a coin toss given the coin result (heads or tails) that we want and how many tosses we are going to have"
   ]
  },
  {
   "cell_type": "code",
   "execution_count": 94,
   "id": "f81cc63d-bd17-49f2-ae65-85a6596d7ded",
   "metadata": {},
   "outputs": [],
   "source": [
    "def prob_of_rep (coin_result,tosses):\n",
    "    if tosses < 0:\n",
    "        out = \"Tosses cannot be negative\"\n",
    "    elif tosses == 0:\n",
    "        out = \"If tosses are 0 then the probability of getting \"+str(coin_result)+\" is 0.5\"\n",
    "    else:\n",
    "        for i in range (1,tosses+1):\n",
    "            factorial = 1*i\n",
    "        prob= (1/(2*factorial))\n",
    "        out = \"The probability of getting \"+str(coin_result)+\" in \"+str(tosses)+\" tosses is \"+str(prob)\n",
    "        \n",
    "    return out"
   ]
  },
  {
   "cell_type": "code",
   "execution_count": 96,
   "id": "7c620e2b-94e9-4e2d-a6ce-ca9086c2623f",
   "metadata": {},
   "outputs": [
    {
     "name": "stdout",
     "output_type": "stream",
     "text": [
      "The probability of getting Heads in 5 tosses is 0.1\n",
      "Tosses cannot be negative\n",
      "If tosses are 0 then the probability of getting heads is 0.5\n",
      "The probability of getting Tails in 100 tosses is 0.005\n"
     ]
    }
   ],
   "source": [
    "test1=prob_of_rep(\"Heads\",5)\n",
    "print(test1)\n",
    "test2=prob_of_rep(\"Tails\",-1)\n",
    "print(test2)\n",
    "test3=prob_of_rep(\"heads\",0)\n",
    "print(test3)\n",
    "test4=prob_of_rep(\"Tails\",100)\n",
    "print(test4)"
   ]
  },
  {
   "cell_type": "markdown",
   "id": "1486c1d2-1e54-4b48-9d89-a86af19a26a0",
   "metadata": {},
   "source": [
    "This cell must include at least 3 of the following: \n",
    "\n",
    "horizontal rule\n",
    "---\n",
    "\n",
    "* bulleted\n",
    "* list\n",
    "\n",
    "1. numbered\n",
    "2. list\n",
    "\n",
    "|tables|are|cool|\n",
    "|:------:|:---:|:------:|\n",
    "|am|i|right?|\n",
    "|1|2|3\n",
    "\n",
    "[hyperlinks]\n",
    "\n",
    "![alt text](https://github.com/adam-p/markdown-here/raw/master/src/common/images/icon48.png \"Images like this\")\n",
    "\n",
    "\n",
    "```python\n",
    "s = \"code/Python syntax highlighting\"\n",
    "print s\n",
    "```\n",
    "\n",
    ">blocked\n",
    "\n",
    "quote break\n",
    "\n",
    ">quotes\n",
    "\n",
    "~~strikethrough~~"
   ]
  },
  {
   "cell_type": "code",
   "execution_count": null,
   "id": "b0eca2b3-8030-4d95-ac04-faed1906c20a",
   "metadata": {},
   "outputs": [],
   "source": []
  }
 ],
 "metadata": {
  "kernelspec": {
   "display_name": "Python 3",
   "language": "python",
   "name": "python3"
  },
  "language_info": {
   "codemirror_mode": {
    "name": "ipython",
    "version": 3
   },
   "file_extension": ".py",
   "mimetype": "text/x-python",
   "name": "python",
   "nbconvert_exporter": "python",
   "pygments_lexer": "ipython3",
   "version": "3.8.8"
  }
 },
 "nbformat": 4,
 "nbformat_minor": 5
}
